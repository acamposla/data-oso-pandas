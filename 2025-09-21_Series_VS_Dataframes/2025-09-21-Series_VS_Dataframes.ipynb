{
 "cells": [
  {
   "cell_type": "markdown",
   "id": "3eec0f85",
   "metadata": {},
   "source": [
    "# Objetivo: \n",
    " > Distinguir Series vs DataFrame, máscaras y cuándo iterar."
   ]
  },
  {
   "cell_type": "markdown",
   "id": "7f106d26",
   "metadata": {},
   "source": [
    "# 0) Setup: dataset de ejemplo: 'customers'\n"
   ]
  },
  {
   "cell_type": "code",
   "execution_count": 2,
   "id": "344b5e9a",
   "metadata": {},
   "outputs": [
    {
     "data": {
      "text/html": [
       "<div>\n",
       "<style scoped>\n",
       "    .dataframe tbody tr th:only-of-type {\n",
       "        vertical-align: middle;\n",
       "    }\n",
       "\n",
       "    .dataframe tbody tr th {\n",
       "        vertical-align: top;\n",
       "    }\n",
       "\n",
       "    .dataframe thead th {\n",
       "        text-align: right;\n",
       "    }\n",
       "</style>\n",
       "<table border=\"1\" class=\"dataframe\">\n",
       "  <thead>\n",
       "    <tr style=\"text-align: right;\">\n",
       "      <th></th>\n",
       "      <th>customer_id</th>\n",
       "      <th>segment</th>\n",
       "      <th>region</th>\n",
       "      <th>channel_preferred</th>\n",
       "      <th>created_at</th>\n",
       "      <th>b2_type</th>\n",
       "    </tr>\n",
       "  </thead>\n",
       "  <tbody>\n",
       "    <tr>\n",
       "      <th>0</th>\n",
       "      <td>1</td>\n",
       "      <td>Enterprise</td>\n",
       "      <td>APAC</td>\n",
       "      <td>Online</td>\n",
       "      <td>2023-04-22</td>\n",
       "      <td>B2B</td>\n",
       "    </tr>\n",
       "    <tr>\n",
       "      <th>1</th>\n",
       "      <td>2</td>\n",
       "      <td>Consumer</td>\n",
       "      <td>NA</td>\n",
       "      <td>Retail</td>\n",
       "      <td>2024-06-22</td>\n",
       "      <td>B2C</td>\n",
       "    </tr>\n",
       "    <tr>\n",
       "      <th>2</th>\n",
       "      <td>3</td>\n",
       "      <td>Consumer</td>\n",
       "      <td>NA</td>\n",
       "      <td>Online</td>\n",
       "      <td>2024-05-11</td>\n",
       "      <td>B2C</td>\n",
       "    </tr>\n",
       "    <tr>\n",
       "      <th>3</th>\n",
       "      <td>4</td>\n",
       "      <td>SMB</td>\n",
       "      <td>APAC</td>\n",
       "      <td>Online</td>\n",
       "      <td>2023-03-15</td>\n",
       "      <td>B2B</td>\n",
       "    </tr>\n",
       "    <tr>\n",
       "      <th>4</th>\n",
       "      <td>5</td>\n",
       "      <td>SMB</td>\n",
       "      <td>NA</td>\n",
       "      <td>Online</td>\n",
       "      <td>2024-08-14</td>\n",
       "      <td>B2B</td>\n",
       "    </tr>\n",
       "  </tbody>\n",
       "</table>\n",
       "</div>"
      ],
      "text/plain": [
       "   customer_id     segment region channel_preferred created_at b2_type\n",
       "0            1  Enterprise   APAC            Online 2023-04-22     B2B\n",
       "1            2    Consumer     NA            Retail 2024-06-22     B2C\n",
       "2            3    Consumer     NA            Online 2024-05-11     B2C\n",
       "3            4         SMB   APAC            Online 2023-03-15     B2B\n",
       "4            5         SMB     NA            Online 2024-08-14     B2B"
      ]
     },
     "metadata": {},
     "output_type": "display_data"
    }
   ],
   "source": [
    "import pandas as pd\n",
    "import numpy as np\n",
    "\n",
    "rng = np.random.default_rng(7)\n",
    "\n",
    "N = 500\n",
    "segments = ['SMB','MidMarket','Enterprise','Consumer']\n",
    "regions  = ['EU','NA','LATAM','APAC']\n",
    "channels = ['Online','Retail','Partner']\n",
    "\n",
    "customers = pd.DataFrame({\n",
    "    'customer_id': np.arange(1, N+1),\n",
    "    'segment': rng.choice(segments, size=N, p=[0.35,0.25,0.15,0.25]),\n",
    "    'region': rng.choice(regions, size=N),\n",
    "    'channel_preferred': rng.choice(channels, size=N, p=[0.6,0.25,0.15]),\n",
    "    'created_at': pd.to_datetime('2023-01-01') + pd.to_timedelta(rng.integers(0, 600, size=N), unit='D')\n",
    "})\n",
    "customers['b2_type'] = np.where(customers['segment'].eq('Consumer'), 'B2C', 'B2B')\n",
    "\n",
    "display(customers.head())"
   ]
  },
  {
   "cell_type": "markdown",
   "id": "abb987de",
   "metadata": {},
   "source": [
    "# 1) Series vs DataFrame\n",
    "- **Series**: una **columna** con índice.\n",
    "- **DataFrame**: una **tabla** (1..N columnas).\n",
    "\n",
    "👉 *Regla práctica*: usa **Series** para crear **máscaras** o hacer operaciones por columna; usa **DataFrame** cuando quieras devolver/seguir trabajando con **tabla** (selección de varias columnas, `merge`, exportación…)."
   ]
  },
  {
   "cell_type": "code",
   "execution_count": 3,
   "id": "3c7befc5",
   "metadata": {},
   "outputs": [
    {
     "data": {
      "text/plain": [
       "pandas.core.series.Series"
      ]
     },
     "execution_count": 3,
     "metadata": {},
     "output_type": "execute_result"
    }
   ],
   "source": [
    "customers[\"segment\"]\n",
    "type(customers[\"segment\"])"
   ]
  },
  {
   "cell_type": "code",
   "execution_count": 4,
   "id": "c9bfa14a",
   "metadata": {},
   "outputs": [
    {
     "data": {
      "text/plain": [
       "pandas.core.frame.DataFrame"
      ]
     },
     "execution_count": 4,
     "metadata": {},
     "output_type": "execute_result"
    }
   ],
   "source": [
    "customers[[\"segment\"]]\n",
    "type(customers[[\"segment\"]])"
   ]
  },
  {
   "cell_type": "markdown",
   "id": "39a12494",
   "metadata": {},
   "source": [
    "# 2) ¿Qué es cada cosa y para qué sirve?"
   ]
  },
  {
   "cell_type": "markdown",
   "id": "5364dfd0",
   "metadata": {},
   "source": [
    "## Serie (pd.Series)"
   ]
  },
  {
   "cell_type": "markdown",
   "id": "c5df83f2",
   "metadata": {},
   "source": [
    "- Es una columna con índice.\n",
    "- Ej.: customers[\"region\"] → Series (dtype: object).\n",
    "- Cuándo: cálculos por columna, máscaras booleanas, stats rápidos.\n",
    "- Qué hacer con ella (ejemplos útiles):\n",
    "\n"
   ]
  },
  {
   "cell_type": "markdown",
   "id": "aaa8f0b3",
   "metadata": {},
   "source": [
    "> https://pandas.pydata.org/docs/reference/series.html"
   ]
  },
  {
   "cell_type": "markdown",
   "id": "d70bffeb",
   "metadata": {},
   "source": [
    "### A) Inspección / metadatos (atributos → sin paréntesis)\n",
    "Atributos describen; no “hacen”. Si no lleva (), no ejecuta nada, solo devuelve información."
   ]
  },
  {
   "cell_type": "markdown",
   "id": "7855dd5c",
   "metadata": {},
   "source": [
    "- s.dtype, s.dtypes (tipo/s)\n",
    "\n",
    "- s.shape, s.size, s.ndim, s.empty\n",
    "\n",
    "- s.index (devuelve un Index)\n",
    "\n",
    "- s.name (nombre de la serie)\n",
    "\n",
    "Equivalentes DataFrame: df.dtypes, df.shape, df.empty, df.index, df.columns."
   ]
  },
  {
   "cell_type": "code",
   "execution_count": 5,
   "id": "7572a2b3",
   "metadata": {},
   "outputs": [
    {
     "data": {
      "text/plain": [
       "dtype('O')"
      ]
     },
     "execution_count": 5,
     "metadata": {},
     "output_type": "execute_result"
    }
   ],
   "source": [
    "customers[\"segment\"].dtype"
   ]
  },
  {
   "cell_type": "markdown",
   "id": "90031810",
   "metadata": {},
   "source": [
    "### B) Resumen / conteos\n",
    "\n",
    " devuelven otra Serie/objeto”, no modifican s."
   ]
  },
  {
   "cell_type": "markdown",
   "id": "68f3ae84",
   "metadata": {},
   "source": [
    "- s.value_counts(): conteo de valores (muy usado)\n",
    "\n",
    "- s.unique() y s.nunique()\n",
    "\n",
    "- s.describe() (estadísticos)\n",
    "\n",
    "*Equivalentes DataFrame:*\n",
    "\n",
    "- df[\"col\"].value_counts() (lo normal)\n",
    "\n",
    "- df.value_counts(subset=[\"col\"]) (cuenta combinaciones de columnas)\n",
    "\n",
    "- df.nunique() (por columna) / df.describe()\n",
    "\n"
   ]
  },
  {
   "cell_type": "code",
   "execution_count": 6,
   "id": "cd44643d",
   "metadata": {},
   "outputs": [
    {
     "data": {
      "text/plain": [
       "segment\n",
       "SMB           163\n",
       "Consumer      134\n",
       "MidMarket     131\n",
       "Enterprise     72\n",
       "Name: count, dtype: int64"
      ]
     },
     "execution_count": 6,
     "metadata": {},
     "output_type": "execute_result"
    }
   ],
   "source": [
    "customers[\"segment\"].value_counts()\n"
   ]
  },
  {
   "cell_type": "markdown",
   "id": "9c0bb89d",
   "metadata": {},
   "source": [
    "### C) Selección / comparación (crean máscaras booleanas)"
   ]
  },
  {
   "cell_type": "markdown",
   "id": "c5801451",
   "metadata": {},
   "source": [
    "- s.eq(x), ne, gt, ge, lt, le\n",
    "\n",
    "- s.isin(lista)\n",
    "\n",
    "- s.str.contains(pat) (si es texto)\n",
    "\n",
    "- *Patrón de filtrado*: df.loc[s.eq(\"APAC\"), [\"region\"]]\n",
    "\n",
    "*Equivalentes DataFrame*: idénticos sobre df[\"col\"]; o en varias columnas con expresiones por columna.\n",
    "\n",
    " >primero creo máscara (Serie de True/False) → luego filtro con .loc[mask, cols].\n",
    "- “Filtro canónico: mask = s.eq('APAC') y luego df.loc[mask, ['region']]\n",
    "- “Vectoriza primero (.str, .dt, .isin, .where)"
   ]
  },
  {
   "cell_type": "code",
   "execution_count": 7,
   "id": "f15bf64e",
   "metadata": {},
   "outputs": [
    {
     "data": {
      "text/plain": [
       "0       True\n",
       "1      False\n",
       "2       True\n",
       "3       True\n",
       "4       True\n",
       "       ...  \n",
       "495     True\n",
       "496     True\n",
       "497     True\n",
       "498     True\n",
       "499     True\n",
       "Name: customer_id, Length: 500, dtype: bool"
      ]
     },
     "execution_count": 7,
     "metadata": {},
     "output_type": "execute_result"
    }
   ],
   "source": [
    "customers[\"customer_id\"] != 2\n"
   ]
  },
  {
   "cell_type": "markdown",
   "id": "331d914c",
   "metadata": {},
   "source": [
    "## DATAFRAME (pd.dataframe) - tabla\n",
    "\n",
    "- Es una tabla con 1..N columnas.\n",
    "\n",
    "- Ej.: customers[[\"region\"]] → DataFrame de 1 columna.\n",
    "\n",
    "- Cuándo: selección de varias columnas, joins, groupby complejo, exportar.\n",
    ">> https://pandas.pydata.org/docs/reference/api/pandas.DataFrame.html"
   ]
  },
  {
   "cell_type": "code",
   "execution_count": 8,
   "id": "549bf4ec",
   "metadata": {},
   "outputs": [
    {
     "data": {
      "text/html": [
       "<div>\n",
       "<style scoped>\n",
       "    .dataframe tbody tr th:only-of-type {\n",
       "        vertical-align: middle;\n",
       "    }\n",
       "\n",
       "    .dataframe tbody tr th {\n",
       "        vertical-align: top;\n",
       "    }\n",
       "\n",
       "    .dataframe thead th {\n",
       "        text-align: right;\n",
       "    }\n",
       "</style>\n",
       "<table border=\"1\" class=\"dataframe\">\n",
       "  <thead>\n",
       "    <tr style=\"text-align: right;\">\n",
       "      <th></th>\n",
       "      <th>customer_id</th>\n",
       "      <th>segment</th>\n",
       "      <th>region</th>\n",
       "      <th>channel_preferred</th>\n",
       "      <th>created_at</th>\n",
       "      <th>b2_type</th>\n",
       "    </tr>\n",
       "  </thead>\n",
       "  <tbody>\n",
       "    <tr>\n",
       "      <th>0</th>\n",
       "      <td>1</td>\n",
       "      <td>Enterprise</td>\n",
       "      <td>APAC</td>\n",
       "      <td>Online</td>\n",
       "      <td>2023-04-22</td>\n",
       "      <td>B2B</td>\n",
       "    </tr>\n",
       "    <tr>\n",
       "      <th>1</th>\n",
       "      <td>2</td>\n",
       "      <td>Consumer</td>\n",
       "      <td>NA</td>\n",
       "      <td>Retail</td>\n",
       "      <td>2024-06-22</td>\n",
       "      <td>B2C</td>\n",
       "    </tr>\n",
       "    <tr>\n",
       "      <th>2</th>\n",
       "      <td>3</td>\n",
       "      <td>Consumer</td>\n",
       "      <td>NA</td>\n",
       "      <td>Online</td>\n",
       "      <td>2024-05-11</td>\n",
       "      <td>B2C</td>\n",
       "    </tr>\n",
       "    <tr>\n",
       "      <th>3</th>\n",
       "      <td>4</td>\n",
       "      <td>SMB</td>\n",
       "      <td>APAC</td>\n",
       "      <td>Online</td>\n",
       "      <td>2023-03-15</td>\n",
       "      <td>B2B</td>\n",
       "    </tr>\n",
       "    <tr>\n",
       "      <th>4</th>\n",
       "      <td>5</td>\n",
       "      <td>SMB</td>\n",
       "      <td>NA</td>\n",
       "      <td>Online</td>\n",
       "      <td>2024-08-14</td>\n",
       "      <td>B2B</td>\n",
       "    </tr>\n",
       "  </tbody>\n",
       "</table>\n",
       "</div>"
      ],
      "text/plain": [
       "   customer_id     segment region channel_preferred created_at b2_type\n",
       "0            1  Enterprise   APAC            Online 2023-04-22     B2B\n",
       "1            2    Consumer     NA            Retail 2024-06-22     B2C\n",
       "2            3    Consumer     NA            Online 2024-05-11     B2C\n",
       "3            4         SMB   APAC            Online 2023-03-15     B2B\n",
       "4            5         SMB     NA            Online 2024-08-14     B2B"
      ]
     },
     "execution_count": 8,
     "metadata": {},
     "output_type": "execute_result"
    }
   ],
   "source": [
    "customers.head() # método head ()\n",
    "\n",
    "customers.columns\n",
    "customers.index\n",
    "customers.values\n",
    "\n",
    "\n",
    "customers.head()\n",
    "\n"
   ]
  },
  {
   "cell_type": "markdown",
   "id": "ed18072b",
   "metadata": {},
   "source": [
    "### A) trocerar usando corchetes\n",
    "Solo columnas → df[[\"col1\",\"col2\"]] (rápido de escribir). ✅ seguro  \n",
    "Filas +. columnas →  df[mascara][[\"col1\",\"col2\"]]  ⚠️ No recomendable"
   ]
  },
  {
   "cell_type": "code",
   "execution_count": 9,
   "id": "5ace9255",
   "metadata": {},
   "outputs": [
    {
     "data": {
      "text/html": [
       "<div>\n",
       "<style scoped>\n",
       "    .dataframe tbody tr th:only-of-type {\n",
       "        vertical-align: middle;\n",
       "    }\n",
       "\n",
       "    .dataframe tbody tr th {\n",
       "        vertical-align: top;\n",
       "    }\n",
       "\n",
       "    .dataframe thead th {\n",
       "        text-align: right;\n",
       "    }\n",
       "</style>\n",
       "<table border=\"1\" class=\"dataframe\">\n",
       "  <thead>\n",
       "    <tr style=\"text-align: right;\">\n",
       "      <th></th>\n",
       "      <th>customer_id</th>\n",
       "      <th>segment</th>\n",
       "      <th>region</th>\n",
       "      <th>channel_preferred</th>\n",
       "      <th>created_at</th>\n",
       "      <th>b2_type</th>\n",
       "    </tr>\n",
       "  </thead>\n",
       "  <tbody>\n",
       "    <tr>\n",
       "      <th>0</th>\n",
       "      <td>1</td>\n",
       "      <td>Enterprise</td>\n",
       "      <td>APAC</td>\n",
       "      <td>Online</td>\n",
       "      <td>2023-04-22</td>\n",
       "      <td>B2B</td>\n",
       "    </tr>\n",
       "    <tr>\n",
       "      <th>1</th>\n",
       "      <td>2</td>\n",
       "      <td>Consumer</td>\n",
       "      <td>NA</td>\n",
       "      <td>Retail</td>\n",
       "      <td>2024-06-22</td>\n",
       "      <td>B2C</td>\n",
       "    </tr>\n",
       "    <tr>\n",
       "      <th>2</th>\n",
       "      <td>3</td>\n",
       "      <td>Consumer</td>\n",
       "      <td>NA</td>\n",
       "      <td>Online</td>\n",
       "      <td>2024-05-11</td>\n",
       "      <td>B2C</td>\n",
       "    </tr>\n",
       "    <tr>\n",
       "      <th>3</th>\n",
       "      <td>4</td>\n",
       "      <td>SMB</td>\n",
       "      <td>APAC</td>\n",
       "      <td>Online</td>\n",
       "      <td>2023-03-15</td>\n",
       "      <td>B2B</td>\n",
       "    </tr>\n",
       "    <tr>\n",
       "      <th>4</th>\n",
       "      <td>5</td>\n",
       "      <td>SMB</td>\n",
       "      <td>NA</td>\n",
       "      <td>Online</td>\n",
       "      <td>2024-08-14</td>\n",
       "      <td>B2B</td>\n",
       "    </tr>\n",
       "    <tr>\n",
       "      <th>...</th>\n",
       "      <td>...</td>\n",
       "      <td>...</td>\n",
       "      <td>...</td>\n",
       "      <td>...</td>\n",
       "      <td>...</td>\n",
       "      <td>...</td>\n",
       "    </tr>\n",
       "    <tr>\n",
       "      <th>495</th>\n",
       "      <td>496</td>\n",
       "      <td>SMB</td>\n",
       "      <td>EU</td>\n",
       "      <td>Retail</td>\n",
       "      <td>2023-06-15</td>\n",
       "      <td>B2B</td>\n",
       "    </tr>\n",
       "    <tr>\n",
       "      <th>496</th>\n",
       "      <td>497</td>\n",
       "      <td>Consumer</td>\n",
       "      <td>NA</td>\n",
       "      <td>Retail</td>\n",
       "      <td>2023-07-28</td>\n",
       "      <td>B2C</td>\n",
       "    </tr>\n",
       "    <tr>\n",
       "      <th>497</th>\n",
       "      <td>498</td>\n",
       "      <td>SMB</td>\n",
       "      <td>APAC</td>\n",
       "      <td>Retail</td>\n",
       "      <td>2023-10-15</td>\n",
       "      <td>B2B</td>\n",
       "    </tr>\n",
       "    <tr>\n",
       "      <th>498</th>\n",
       "      <td>499</td>\n",
       "      <td>MidMarket</td>\n",
       "      <td>LATAM</td>\n",
       "      <td>Online</td>\n",
       "      <td>2023-11-17</td>\n",
       "      <td>B2B</td>\n",
       "    </tr>\n",
       "    <tr>\n",
       "      <th>499</th>\n",
       "      <td>500</td>\n",
       "      <td>SMB</td>\n",
       "      <td>EU</td>\n",
       "      <td>Online</td>\n",
       "      <td>2024-02-10</td>\n",
       "      <td>B2B</td>\n",
       "    </tr>\n",
       "  </tbody>\n",
       "</table>\n",
       "<p>500 rows × 6 columns</p>\n",
       "</div>"
      ],
      "text/plain": [
       "     customer_id     segment region channel_preferred created_at b2_type\n",
       "0              1  Enterprise   APAC            Online 2023-04-22     B2B\n",
       "1              2    Consumer     NA            Retail 2024-06-22     B2C\n",
       "2              3    Consumer     NA            Online 2024-05-11     B2C\n",
       "3              4         SMB   APAC            Online 2023-03-15     B2B\n",
       "4              5         SMB     NA            Online 2024-08-14     B2B\n",
       "..           ...         ...    ...               ...        ...     ...\n",
       "495          496         SMB     EU            Retail 2023-06-15     B2B\n",
       "496          497    Consumer     NA            Retail 2023-07-28     B2C\n",
       "497          498         SMB   APAC            Retail 2023-10-15     B2B\n",
       "498          499   MidMarket  LATAM            Online 2023-11-17     B2B\n",
       "499          500         SMB     EU            Online 2024-02-10     B2B\n",
       "\n",
       "[500 rows x 6 columns]"
      ]
     },
     "execution_count": 9,
     "metadata": {},
     "output_type": "execute_result"
    }
   ],
   "source": [
    "# mascara booleana = Serie\n",
    "\n",
    "\n",
    "mascara = customers[\"segment\"] == \"Enterprise\"\n",
    "\n",
    "customers[mascara][[\"segment\", \"region\", \"channel_preferred\"]]\n",
    "\n",
    "customers\n",
    "\n",
    "\n"
   ]
  },
  {
   "cell_type": "markdown",
   "id": "bc8ff7a4",
   "metadata": {},
   "source": [
    "### B) trocerar usando .loc \n",
    "- df.loc[Filas, Columnas]\n",
    "- df.loc[mascara, Columnas]\n",
    "\n"
   ]
  },
  {
   "cell_type": "code",
   "execution_count": 31,
   "id": "dbb90bb7",
   "metadata": {},
   "outputs": [
    {
     "data": {
      "text/html": [
       "<div>\n",
       "<style scoped>\n",
       "    .dataframe tbody tr th:only-of-type {\n",
       "        vertical-align: middle;\n",
       "    }\n",
       "\n",
       "    .dataframe tbody tr th {\n",
       "        vertical-align: top;\n",
       "    }\n",
       "\n",
       "    .dataframe thead th {\n",
       "        text-align: right;\n",
       "    }\n",
       "</style>\n",
       "<table border=\"1\" class=\"dataframe\">\n",
       "  <thead>\n",
       "    <tr style=\"text-align: right;\">\n",
       "      <th></th>\n",
       "      <th>region</th>\n",
       "      <th>channel_preferred</th>\n",
       "    </tr>\n",
       "  </thead>\n",
       "  <tbody>\n",
       "    <tr>\n",
       "      <th>0</th>\n",
       "      <td>APAC</td>\n",
       "      <td>Online</td>\n",
       "    </tr>\n",
       "    <tr>\n",
       "      <th>18</th>\n",
       "      <td>LATAM</td>\n",
       "      <td>Retail</td>\n",
       "    </tr>\n",
       "    <tr>\n",
       "      <th>22</th>\n",
       "      <td>APAC</td>\n",
       "      <td>Online</td>\n",
       "    </tr>\n",
       "    <tr>\n",
       "      <th>28</th>\n",
       "      <td>LATAM</td>\n",
       "      <td>Partner</td>\n",
       "    </tr>\n",
       "    <tr>\n",
       "      <th>34</th>\n",
       "      <td>EU</td>\n",
       "      <td>Retail</td>\n",
       "    </tr>\n",
       "    <tr>\n",
       "      <th>...</th>\n",
       "      <td>...</td>\n",
       "      <td>...</td>\n",
       "    </tr>\n",
       "    <tr>\n",
       "      <th>458</th>\n",
       "      <td>LATAM</td>\n",
       "      <td>Online</td>\n",
       "    </tr>\n",
       "    <tr>\n",
       "      <th>469</th>\n",
       "      <td>EU</td>\n",
       "      <td>Online</td>\n",
       "    </tr>\n",
       "    <tr>\n",
       "      <th>475</th>\n",
       "      <td>LATAM</td>\n",
       "      <td>Online</td>\n",
       "    </tr>\n",
       "    <tr>\n",
       "      <th>476</th>\n",
       "      <td>NA</td>\n",
       "      <td>Partner</td>\n",
       "    </tr>\n",
       "    <tr>\n",
       "      <th>494</th>\n",
       "      <td>NA</td>\n",
       "      <td>Online</td>\n",
       "    </tr>\n",
       "  </tbody>\n",
       "</table>\n",
       "<p>72 rows × 2 columns</p>\n",
       "</div>"
      ],
      "text/plain": [
       "    region channel_preferred\n",
       "0     APAC            Online\n",
       "18   LATAM            Retail\n",
       "22    APAC            Online\n",
       "28   LATAM           Partner\n",
       "34      EU            Retail\n",
       "..     ...               ...\n",
       "458  LATAM            Online\n",
       "469     EU            Online\n",
       "475  LATAM            Online\n",
       "476     NA           Partner\n",
       "494     NA            Online\n",
       "\n",
       "[72 rows x 2 columns]"
      ]
     },
     "execution_count": 31,
     "metadata": {},
     "output_type": "execute_result"
    }
   ],
   "source": [
    "\n",
    "customers.loc[customers[\"segment\"] == \"Enterprise\",[\"region\", \"channel_preferred\"]]\n",
    "\n"
   ]
  },
  {
   "cell_type": "code",
   "execution_count": null,
   "id": "9fde1e0f",
   "metadata": {},
   "outputs": [],
   "source": []
  }
 ],
 "metadata": {
  "kernelspec": {
   "display_name": "my_data_lab",
   "language": "python",
   "name": "python3"
  },
  "language_info": {
   "codemirror_mode": {
    "name": "ipython",
    "version": 3
   },
   "file_extension": ".py",
   "mimetype": "text/x-python",
   "name": "python",
   "nbconvert_exporter": "python",
   "pygments_lexer": "ipython3",
   "version": "3.9.21"
  }
 },
 "nbformat": 4,
 "nbformat_minor": 5
}
